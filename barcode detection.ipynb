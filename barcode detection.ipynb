{
 "cells": [
  {
   "cell_type": "code",
   "execution_count": 24,
   "id": "34249898",
   "metadata": {},
   "outputs": [],
   "source": [
    "import cv2\n",
    "import numpy as np\n",
    "from pyzbar.pyzbar import decode\n",
    "import os\n"
   ]
  },
  {
   "cell_type": "code",
   "execution_count": 12,
   "id": "2dd08384",
   "metadata": {},
   "outputs": [],
   "source": [
    "def preprocess_image(image, method=\"sharpen\"):\n",
    "    if method == \"blur\":\n",
    "        return cv2.GaussianBlur(image, (5, 5), 0)\n",
    "    elif method == \"sharpen\":\n",
    "        kernel = np.array([[0, -1, 0],\n",
    "                           [-1, 5, -1],\n",
    "                           [0, -1, 0]])\n",
    "        return cv2.filter2D(image, -1, kernel)\n",
    "    return image"
   ]
  },
  {
   "cell_type": "code",
   "execution_count": 13,
   "id": "fa5b3fa8",
   "metadata": {},
   "outputs": [],
   "source": [
    "def decode_and_draw(image):\n",
    "    decoded_objects = decode(image)\n",
    "    for obj in decoded_objects:\n",
    "        try:\n",
    "            barcode_data = obj.data.decode(\"utf-8\")\n",
    "        except Exception as e:\n",
    "            barcode_data = \"<undecodable>\"\n",
    "            print(f\"Decode error: {e}\")\n",
    "\n",
    "        barcode_type = obj.type if obj.type else \"<unknown>\"\n",
    "\n",
    "        print(\"Type:\", barcode_type)\n",
    "        print(\"Data:\", barcode_data)\n",
    "        print(\"Bounding Box:\", obj.rect)\n",
    "\n",
    "        points = obj.polygon\n",
    "        if len(points) > 4:\n",
    "            pts = np.array([(pt.x, pt.y) for pt in points], dtype=np.int32)\n",
    "            pts = pts.reshape((-1, 1, 2))\n",
    "            hull = cv2.convexHull(pts).squeeze()\n",
    "        else:\n",
    "            hull = [(pt.x, pt.y) for pt in points]\n",
    "\n",
    "        for j in range(len(hull)):\n",
    "            pt1 = tuple(hull[j])\n",
    "            pt2 = tuple(hull[(j + 1) % len(hull)])\n",
    "            cv2.line(image, pt1, pt2, (255, 0, 0), 3)\n",
    "    return image"
   ]
  },
  {
   "cell_type": "code",
   "execution_count": 14,
   "id": "a7969a17",
   "metadata": {},
   "outputs": [],
   "source": [
    "def run_pipeline(image_path, preprocess=\"sharpen\", show=True):\n",
    "    if not os.path.exists(image_path):\n",
    "        print(\"Image not found.\")\n",
    "        return\n",
    "\n",
    "    original = cv2.imread(image_path)\n",
    "    processed = original.copy()\n",
    "\n",
    "    processed = preprocess_image(processed, method=preprocess)\n",
    "    processed = decode_and_draw(processed)\n",
    "\n",
    "    if show:\n",
    "        height = 500\n",
    "        original_resized = cv2.resize(original, (int(original.shape[1] * height / original.shape[0]), height))\n",
    "        processed_resized = cv2.resize(processed, (int(processed.shape[1] * height / processed.shape[0]), height))\n",
    "\n",
    "        combined = np.hstack((original_resized, processed_resized))\n",
    "\n",
    "        cv2.imshow(\"Input (Left) vs Output (Right)\", combined)\n",
    "        cv2.waitKey(0)\n",
    "        cv2.destroyAllWindows()"
   ]
  },
  {
   "cell_type": "markdown",
   "id": "f0041def",
   "metadata": {},
   "source": [
    "Testing"
   ]
  },
  {
   "cell_type": "code",
   "execution_count": 20,
   "id": "fefc8057",
   "metadata": {},
   "outputs": [
    {
     "name": "stdout",
     "output_type": "stream",
     "text": [
      "Type: EAN13\n",
      "Data: 9336672318343\n",
      "Bounding Box: Rect(left=142, top=150, width=158, height=97)\n"
     ]
    }
   ],
   "source": [
    "test_images = [r\"C:\\Users\\shail\\OneDrive\\Documents\\Study material\\AIP\\Barcode input\\barcode 1.webp\"]\n",
    "\n",
    "run_pipeline(test_images[0], preprocess=\"sharpen\")"
   ]
  },
  {
   "cell_type": "code",
   "execution_count": 22,
   "id": "b0bfb8d6",
   "metadata": {},
   "outputs": [
    {
     "name": "stdout",
     "output_type": "stream",
     "text": [
      "Type: EAN13\n",
      "Data: 0705632441947\n",
      "Bounding Box: Rect(left=24, top=0, width=206, height=122)\n"
     ]
    }
   ],
   "source": [
    "test_images = [r\"C:\\Users\\shail\\OneDrive\\Documents\\Study material\\AIP\\Barcode input\\barcode 2b.png\"]\n",
    "\n",
    "run_pipeline(test_images[0], preprocess=\"sharpen\")"
   ]
  },
  {
   "cell_type": "code",
   "execution_count": 25,
   "id": "51877c54",
   "metadata": {},
   "outputs": [
    {
     "name": "stdout",
     "output_type": "stream",
     "text": [
      "Type: EAN13\n",
      "Data: 0860003773741\n",
      "Bounding Box: Rect(left=336, top=109, width=638, height=452)\n"
     ]
    }
   ],
   "source": [
    "test_images = [r\"C:\\Users\\shail\\OneDrive\\Documents\\Study material\\AIP\\Barcode input\\barcode 3b.png\"]\n",
    "\n",
    "run_pipeline(test_images[0], preprocess=\"sharpen\")"
   ]
  },
  {
   "cell_type": "code",
   "execution_count": null,
   "id": "c08e61f1",
   "metadata": {},
   "outputs": [],
   "source": []
  }
 ],
 "metadata": {
  "kernelspec": {
   "display_name": "Python 3",
   "language": "python",
   "name": "python3"
  },
  "language_info": {
   "codemirror_mode": {
    "name": "ipython",
    "version": 3
   },
   "file_extension": ".py",
   "mimetype": "text/x-python",
   "name": "python",
   "nbconvert_exporter": "python",
   "pygments_lexer": "ipython3",
   "version": "3.13.3"
  }
 },
 "nbformat": 4,
 "nbformat_minor": 5
}
